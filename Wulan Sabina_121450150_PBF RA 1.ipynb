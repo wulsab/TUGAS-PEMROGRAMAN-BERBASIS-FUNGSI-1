{
 "cells": [
  {
   "cell_type": "markdown",
   "id": "d7311b73-323b-4b4b-9500-1d24671bc6e9",
   "metadata": {
    "tags": []
   },
   "source": [
    "# Nama : Wulan Sabina\n",
    "# NIM : 121450150\n",
    "# Kelas : Pemrograman Berbasis Fungsi RA"
   ]
  },
  {
   "cell_type": "markdown",
   "id": "c3bbe851-19d4-43c1-a4c9-04a58efb76d0",
   "metadata": {
    "tags": []
   },
   "source": [
    "## 1. Jelaskan menggunakan tabel mengenai kelebihan dan kekurangan paradigma procedural dibandingkan dengan object oriented (minimal 3)"
   ]
  },
  {
   "cell_type": "markdown",
   "id": "ea1af7c8-feb6-498c-b279-544a3bf6c1f4",
   "metadata": {},
   "source": [
    "<table>\n",
    "    <tr>\n",
    "        <th>Procedural</th>\n",
    "        <th>Object Oriented</th>\n",
    "    </tr>\n",
    "    <tr>\n",
    "        <td>Penulisan program yang sederhana dan terstruktur cocok untuk program yang sederhana</td>\n",
    "        <td>Penulisan program yang sederhana dan terstruktur kurang cocok untuk program yang sederhana</td>\n",
    "    </tr>\n",
    "    <tr>\n",
    "        <td>Program lebih mudah dipahami oleh pemula</td>\n",
    "        <td>Program lebih sulit dipahami oleh pemula</td>\n",
    "    </tr>\n",
    "    <tr>\n",
    "        <td>Penggunaan memori lebih sedikit dibandingkan Object Oriented</td>\n",
    "        <td>Penggunaan memory lebih besar dibandingkan Procedural</td>\n",
    "    </tr>\n",
    "</table>"
   ]
  },
  {
   "cell_type": "markdown",
   "id": "0d943263-90c7-43e9-ab2d-a86af81fe325",
   "metadata": {},
   "source": [
    "## 2. Jelaskan menggunakan tabel mengenai kelebihan dan kekurangan paradigma object oriented dibandingkan dengan functional (minimal 3)"
   ]
  },
  {
   "cell_type": "markdown",
   "id": "219d156c-656f-485b-a4bf-297c18387a2c",
   "metadata": {
    "tags": []
   },
   "source": [
    "<table>\n",
    "    <tr>\n",
    "        <th>Object Oriented</th>\n",
    "        <th>Functional</th>\n",
    "    </tr>\n",
    "    <tr>\n",
    "        <td>Tipe variabel dapat diubah</td>\n",
    "        <td>Tipe variabel tidak dapat diubah</td>\n",
    "    </tr>\n",
    "    <tr>\n",
    "        <td>Kode lebih banyak dibandingkan Functional</td>\n",
    "        <td>Kode lebih sedikit dibandingkan Object Oriented</td>\n",
    "    </tr>\n",
    "    <tr>\n",
    "        <td>Membutuhkan memory lebih besar dibandingkan Functional</td>\n",
    "        <td>Membutuhkan memory lebih sedikit dibandingkan Object Oriented</td>\n",
    "    </tr>\n",
    "</table>"
   ]
  },
  {
   "cell_type": "markdown",
   "id": "e7098130-6b8c-4d78-a771-8b31b69468ca",
   "metadata": {},
   "source": [
    "## 3. Jelaskan menggunakan tabel mengenai kelebihan dan kekurangan paradigma procedural dibandingkan dengan functional (minimal 3)"
   ]
  },
  {
   "cell_type": "markdown",
   "id": "f92a4daa-e464-47de-804b-1f5b09fa0a8f",
   "metadata": {},
   "source": [
    "<table>\n",
    "    <tr>\n",
    "        <th>Procedural</th>\n",
    "        <th>Functional</th>\n",
    "    </tr>\n",
    "    <tr>\n",
    "        <td>Kode lebih mudah dipahami</td>\n",
    "        <td>Kode lebih sulit dipahami</td>\n",
    "    </tr>\n",
    "    <tr>\n",
    "        <td>Prosesnya lebih memakan waktu</td>\n",
    "        <td>Prosesnya lebih meringkas waktu</td>\n",
    "    </tr>\n",
    "    <tr>\n",
    "        <td>Variabel dapat dimodifikasi atau diperbarui</td>\n",
    "        <td>Variabel tidak dapat dimodifikasi atau diperbarui</td>\n",
    "    </tr>\n",
    "</table>"
   ]
  },
  {
   "cell_type": "markdown",
   "id": "71cd29b4-d604-477f-8571-ef93b26512b9",
   "metadata": {},
   "source": [
    "## 4. Apa yang dimaksud dengan pure functional programming language?"
   ]
  },
  {
   "cell_type": "markdown",
   "id": "9628f843-9b07-4e51-94ed-5c56aae3d29b",
   "metadata": {},
   "source": [
    "Pure Functional Programming Language merupakan sebuah fungsi yang menerima parameter inputan dan mengembalikan nilai tanpa merubah nilai dari variabel apapun."
   ]
  },
  {
   "cell_type": "markdown",
   "id": "8ebc649d-ba5b-4ec7-9a42-48db3d49a22e",
   "metadata": {},
   "source": [
    "## 5. Dari bahasa pemrograman FP di slide sebelumnya ( slide 14 ) , manakah yang termasuk pure functional programming language?"
   ]
  },
  {
   "cell_type": "markdown",
   "id": "44a6d675-bdad-4a12-87c7-3117191e5c32",
   "metadata": {
    "tags": []
   },
   "source": [
    "Bahasa yang termasuk pure functional programming adalah Lisp, Haskell, dan Standard ML."
   ]
  },
  {
   "cell_type": "markdown",
   "id": "dbed3c96-dd57-4fc0-a292-8fcf565f3f91",
   "metadata": {},
   "source": [
    "## 6. Membuat program Simple Password encryption, dengan ketentuan :"
   ]
  },
  {
   "cell_type": "markdown",
   "id": "fa1fdc85-cee0-4e85-b642-fd21a142f214",
   "metadata": {},
   "source": [
    "1. Input password bertipe string dengan batasan panjang password 100 karakter.\n",
    "2. Setiap karakter dari string tersebut diubah menjadi ASCII value.\n",
    "3. Kemudian setiap ASCII value tersebut dikembangkan menjadi 3 value dengan dilakukan operasi berikut:\n",
    "    1. Value pertama dibagi dengan integer 26 kemudian dibulatkan dan dijumlahkan dengan 80 kemudian diubah kembali menjadi karakter.\n",
    "    2. Value kedua dihitung sisa bagi dengan 26 kemudian dijumlahkan dengan 80 kemudian diubah kembali menjadi karakter.\n",
    "    3. Value ketiga adalah karakter '+' jika value pertama lebih besar dari value kedua, atau value ketiga adalah karakter '-' jika value pertama tidak lebih besar dari value kedua.\n",
    "    4. Deretkan value pertama, kedua dan ketiga untuk setiap karakter dalam password tersebut sehingga didapatkan password dalam bentuk baru."
   ]
  },
  {
   "cell_type": "markdown",
   "id": "456b382c-7fff-4dba-9b5e-5deb7cc4e8a6",
   "metadata": {},
   "source": [
    "1. Bantulah user tersebut dengan membuatkan sebuah program yang secara otomatis mengubah password yang di input menjadi terenkripsi sesuai aturan tersebut!"
   ]
  },
  {
   "cell_type": "code",
   "execution_count": 9,
   "id": "b769312e-e50a-4835-96aa-c2e97d475b07",
   "metadata": {
    "tags": []
   },
   "outputs": [],
   "source": [
    "from functools import reduce"
   ]
  },
  {
   "cell_type": "code",
   "execution_count": 10,
   "id": "f1ef03bd-cf7a-42ab-b589-274606355720",
   "metadata": {
    "tags": []
   },
   "outputs": [],
   "source": [
    "def caesar_encrypt(password):\n",
    "    ascii_values = [ord(char) for char in password]\n",
    "    encrypt_values = [(chr((value//26)+80), chr(value%26+80), '+' if value//26 > value%26 else '-') for value in ascii_values]\n",
    "    encrypted_password = reduce(lambda acc, val: acc+val[0]+val[1]+val[2], encrypt_values, '')\n",
    "    return encrypted_password"
   ]
  },
  {
   "cell_type": "code",
   "execution_count": 11,
   "id": "cf6e495c-1a30-4efd-949e-ceb5dd650ffb",
   "metadata": {
    "tags": []
   },
   "outputs": [
    {
     "name": "stdin",
     "output_type": "stream",
     "text": [
      "Masukkan password:  wulsab0\n"
     ]
    }
   ],
   "source": [
    "password = input(\"Masukkan password: \")"
   ]
  },
  {
   "cell_type": "code",
   "execution_count": 13,
   "id": "e8b5bc4c-b031-4131-ba79-a870524a68bc",
   "metadata": {
    "tags": []
   },
   "outputs": [
    {
     "name": "stdout",
     "output_type": "stream",
     "text": [
      "Password:  wulsab0\n"
     ]
    }
   ],
   "source": [
    "encrypted_password = caesar_encrypt(password)\n",
    "print(\"Password: \", password)"
   ]
  },
  {
   "cell_type": "code",
   "execution_count": 14,
   "id": "5662b97d-e78c-4ed9-8051-9aa752f38df2",
   "metadata": {
    "tags": []
   },
   "outputs": [
    {
     "name": "stdout",
     "output_type": "stream",
     "text": [
      "Password Terenkripsi:  T_-T]-TT-T[-Sc-Sd-Qf-\n"
     ]
    }
   ],
   "source": [
    "print(\"Password Terenkripsi: \", encrypted_password)"
   ]
  }
 ],
 "metadata": {
  "kernelspec": {
   "display_name": "Python 3 (ipykernel)",
   "language": "python",
   "name": "python3"
  },
  "language_info": {
   "codemirror_mode": {
    "name": "ipython",
    "version": 3
   },
   "file_extension": ".py",
   "mimetype": "text/x-python",
   "name": "python",
   "nbconvert_exporter": "python",
   "pygments_lexer": "ipython3",
   "version": "3.10.8"
  }
 },
 "nbformat": 4,
 "nbformat_minor": 5
}
